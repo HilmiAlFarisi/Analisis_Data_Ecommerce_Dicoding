{
 "cells": [
  {
   "cell_type": "markdown",
   "metadata": {
    "id": "H9wADwK78DCz"
   },
   "source": [
    "# Proyek Analisis Data: [Input Nama Dataset]\n",
    "- **Nama:** Muhammad Hilmi Al FArisi\n",
    "- **Email:** b25b9d032@student.devacademy.id / faris.workidea@gmail.com\n",
    "- **ID Dicoding:** B25B9D032"
   ]
  },
  {
   "cell_type": "markdown",
   "metadata": {
    "id": "eE0raob58DC0"
   },
   "source": [
    "## Menentukan Pertanyaan Bisnis"
   ]
  },
  {
   "cell_type": "markdown",
   "metadata": {
    "id": "GmQeQ5YF8DC0"
   },
   "source": [
    "Pada submission ini, data yang digunakan adalah dasaet E-Commerce Public yang berisi berbagai data demografis pelanggan, penjual, produk, dan pemeasanan yang dapat dieksplore untuk menemukan insight bisnis. Pada proses analisis data ini bertujuan untuk menemukan insight dan jawaban dari pertanyaan bisnis yang saya tentukan sebagai berikut :\n",
    "\n",
    "- Kategori produk apa saja yang mendapatkan nilai rating 5 terbanyak?\n",
    "- Seberapa besar faktor volume dan berat barang mempengaruhi harga pengiriman barang?\n",
    "- Di mana letak geografis yang mempunyai angka pembelian tertinggi dan terendah? (Geospatial Analysis)\n",
    "- Siapa sajakan pelanggan yang mempunyai performance paling tinggi dari sisi recency pembelian, frekuensi pembelian, dan total biaya belanja yang dikeluarkan? (RFM Analysis)\n"
   ]
  },
  {
   "cell_type": "markdown",
   "metadata": {
    "id": "H-z4QGlO8DC1"
   },
   "source": [
    "## Import Semua Packages/Library yang Digunakan"
   ]
  },
  {
   "cell_type": "code",
   "execution_count": 3,
   "metadata": {
    "executionInfo": {
     "elapsed": 50,
     "status": "ok",
     "timestamp": 1761662070122,
     "user": {
      "displayName": "Muhammad Hilmi Al Farisi",
      "userId": "09746579587384254250"
     },
     "user_tz": -540
    },
    "id": "FVYwaObI8DC1"
   },
   "outputs": [],
   "source": [
    "import numpy as np\n",
    "import pandas as pd\n",
    "import matplotlib.pyplot as plt\n",
    "import seaborn as sns\n",
    "import geopandas as gpd\n",
    "from shapely.geometry import Point\n"
   ]
  },
  {
   "cell_type": "markdown",
   "metadata": {
    "id": "h_Sh51Xy8DC1"
   },
   "source": [
    "## Data Wrangling"
   ]
  },
  {
   "cell_type": "markdown",
   "metadata": {
    "id": "sXU2GBYu8DC1"
   },
   "source": [
    "### Gathering Data"
   ]
  },
  {
   "cell_type": "code",
   "execution_count": 4,
   "metadata": {
    "executionInfo": {
     "elapsed": 4988,
     "status": "ok",
     "timestamp": 1761662087375,
     "user": {
      "displayName": "Muhammad Hilmi Al Farisi",
      "userId": "09746579587384254250"
     },
     "user_tz": -540
    },
    "id": "zjCBk1BI8DC1"
   },
   "outputs": [],
   "source": [
    "customer_df = pd.read_csv('./Data/customers_dataset.csv')\n",
    "order_df = pd.read_csv('./Data/orders_dataset.csv')\n",
    "order_payment_df = pd.read_csv('./Data/order_payments_dataset.csv')\n",
    "order_review_df = pd.read_csv('./Data/order_reviews_dataset.csv')\n",
    "product_df = pd.read_csv('./Data/products_dataset.csv')\n",
    "geolocation_df = pd.read_csv('./Data/geolocation_dataset.csv')\n",
    "order_item_df = pd.read_csv('./Data/order_items_dataset.csv')\n"
   ]
  },
  {
   "cell_type": "markdown",
   "metadata": {
    "id": "MMi6xGaDkbCi"
   },
   "source": [
    "**Insight:**\n",
    "- Data Order mempunyai beberapa dataset setipe di antaranya order_item, order_review, dan order payment yang bisa dimerge untuk mendapatkan informasi lengkap terkait pemesanan;\n",
    "- Data order yang lengkap mempunyai beberapa foreign key diantaranya column product_id untuk data product, column seller_id untuk data seller, column customer_id untuk data customer;\n",
    "- Data customer mempunyai foreign key dengan data geolocation yaitu column geolocation_zip_code_prefix untuk mendapatkan data lokasi tiap customer;\n",
    "- Terdapat 99440 data pemesanan sejak September 2016 hingga Oktober 2018;\n",
    "- Data yang ada cukup representatif untuk dianalisis demi menjawab pertanyaan-pertanyaan di atas.\n"
   ]
  },
  {
   "cell_type": "markdown",
   "metadata": {
    "id": "FHSiqaZp8DC1"
   },
   "source": [
    "### Assessing Data"
   ]
  },
  {
   "cell_type": "code",
   "execution_count": 5,
   "metadata": {
    "id": "ax-3tEjc9Cj1"
   },
   "outputs": [
    {
     "name": "stdout",
     "output_type": "stream",
     "text": [
      "<class 'pandas.core.frame.DataFrame'>\n",
      "RangeIndex: 99441 entries, 0 to 99440\n",
      "Data columns (total 8 columns):\n",
      " #   Column                         Non-Null Count  Dtype \n",
      "---  ------                         --------------  ----- \n",
      " 0   order_id                       99441 non-null  object\n",
      " 1   customer_id                    99441 non-null  object\n",
      " 2   order_status                   99441 non-null  object\n",
      " 3   order_purchase_timestamp       99441 non-null  object\n",
      " 4   order_approved_at              99281 non-null  object\n",
      " 5   order_delivered_carrier_date   97658 non-null  object\n",
      " 6   order_delivered_customer_date  96476 non-null  object\n",
      " 7   order_estimated_delivery_date  99441 non-null  object\n",
      "dtypes: object(8)\n",
      "memory usage: 6.1+ MB\n",
      "<class 'pandas.core.frame.DataFrame'>\n",
      "RangeIndex: 103886 entries, 0 to 103885\n",
      "Data columns (total 5 columns):\n",
      " #   Column                Non-Null Count   Dtype  \n",
      "---  ------                --------------   -----  \n",
      " 0   order_id              103886 non-null  object \n",
      " 1   payment_sequential    103886 non-null  int64  \n",
      " 2   payment_type          103886 non-null  object \n",
      " 3   payment_installments  103886 non-null  int64  \n",
      " 4   payment_value         103886 non-null  float64\n",
      "dtypes: float64(1), int64(2), object(2)\n",
      "memory usage: 4.0+ MB\n",
      "<class 'pandas.core.frame.DataFrame'>\n",
      "RangeIndex: 99224 entries, 0 to 99223\n",
      "Data columns (total 7 columns):\n",
      " #   Column                   Non-Null Count  Dtype \n",
      "---  ------                   --------------  ----- \n",
      " 0   review_id                99224 non-null  object\n",
      " 1   order_id                 99224 non-null  object\n",
      " 2   review_score             99224 non-null  int64 \n",
      " 3   review_comment_title     11568 non-null  object\n",
      " 4   review_comment_message   40977 non-null  object\n",
      " 5   review_creation_date     99224 non-null  object\n",
      " 6   review_answer_timestamp  99224 non-null  object\n",
      "dtypes: int64(1), object(6)\n",
      "memory usage: 5.3+ MB\n",
      "<class 'pandas.core.frame.DataFrame'>\n",
      "RangeIndex: 99441 entries, 0 to 99440\n",
      "Data columns (total 5 columns):\n",
      " #   Column                    Non-Null Count  Dtype \n",
      "---  ------                    --------------  ----- \n",
      " 0   customer_id               99441 non-null  object\n",
      " 1   customer_unique_id        99441 non-null  object\n",
      " 2   customer_zip_code_prefix  99441 non-null  int64 \n",
      " 3   customer_city             99441 non-null  object\n",
      " 4   customer_state            99441 non-null  object\n",
      "dtypes: int64(1), object(4)\n",
      "memory usage: 3.8+ MB\n",
      "<class 'pandas.core.frame.DataFrame'>\n",
      "RangeIndex: 32951 entries, 0 to 32950\n",
      "Data columns (total 9 columns):\n",
      " #   Column                      Non-Null Count  Dtype  \n",
      "---  ------                      --------------  -----  \n",
      " 0   product_id                  32951 non-null  object \n",
      " 1   product_category_name       32341 non-null  object \n",
      " 2   product_name_lenght         32341 non-null  float64\n",
      " 3   product_description_lenght  32341 non-null  float64\n",
      " 4   product_photos_qty          32341 non-null  float64\n",
      " 5   product_weight_g            32949 non-null  float64\n",
      " 6   product_length_cm           32949 non-null  float64\n",
      " 7   product_height_cm           32949 non-null  float64\n",
      " 8   product_width_cm            32949 non-null  float64\n",
      "dtypes: float64(7), object(2)\n",
      "memory usage: 2.3+ MB\n",
      "<class 'pandas.core.frame.DataFrame'>\n",
      "RangeIndex: 1000163 entries, 0 to 1000162\n",
      "Data columns (total 5 columns):\n",
      " #   Column                       Non-Null Count    Dtype  \n",
      "---  ------                       --------------    -----  \n",
      " 0   geolocation_zip_code_prefix  1000163 non-null  int64  \n",
      " 1   geolocation_lat              1000163 non-null  float64\n",
      " 2   geolocation_lng              1000163 non-null  float64\n",
      " 3   geolocation_city             1000163 non-null  object \n",
      " 4   geolocation_state            1000163 non-null  object \n",
      "dtypes: float64(2), int64(1), object(2)\n",
      "memory usage: 38.2+ MB\n",
      "<class 'pandas.core.frame.DataFrame'>\n",
      "RangeIndex: 112650 entries, 0 to 112649\n",
      "Data columns (total 7 columns):\n",
      " #   Column               Non-Null Count   Dtype  \n",
      "---  ------               --------------   -----  \n",
      " 0   order_id             112650 non-null  object \n",
      " 1   order_item_id        112650 non-null  int64  \n",
      " 2   product_id           112650 non-null  object \n",
      " 3   seller_id            112650 non-null  object \n",
      " 4   shipping_limit_date  112650 non-null  object \n",
      " 5   price                112650 non-null  float64\n",
      " 6   freight_value        112650 non-null  float64\n",
      "dtypes: float64(2), int64(1), object(4)\n",
      "memory usage: 6.0+ MB\n"
     ]
    }
   ],
   "source": [
    "# Mencari missing value dan tipe data yang tidak sesuai yang berpotensi mengurangi kualitas analisis data\n",
    "order_df.info()\n",
    "order_payment_df.info()\n",
    "order_review_df.info()\n",
    "customer_df.info()\n",
    "product_df.info()\n",
    "geolocation_df.info()\n",
    "order_item_df.info()"
   ]
  },
  {
   "cell_type": "code",
   "execution_count": 6,
   "metadata": {
    "colab": {
     "base_uri": "https://localhost:8080/"
    },
    "executionInfo": {
     "elapsed": 2234,
     "status": "ok",
     "timestamp": 1761662132197,
     "user": {
      "displayName": "Muhammad Hilmi Al Farisi",
      "userId": "09746579587384254250"
     },
     "user_tz": -540
    },
    "id": "KVm5AH8PY8kH",
    "outputId": "41db449c-b6f6-4615-f8ec-7fcbd4ad8186"
   },
   "outputs": [
    {
     "data": {
      "text/plain": [
       "np.int64(0)"
      ]
     },
     "execution_count": 6,
     "metadata": {},
     "output_type": "execute_result"
    }
   ],
   "source": [
    "# Menemukan data duplikat yang berpotensi mengurangi kualitas analisis data\n",
    "order_df.duplicated().sum()\n",
    "order_payment_df.duplicated().sum()\n",
    "order_review_df.duplicated().sum()\n",
    "customer_df.duplicated().sum()\n",
    "product_df.duplicated().sum()\n",
    "geolocation_df.duplicated().sum()\n",
    "order_item_df.duplicated().sum()"
   ]
  },
  {
   "cell_type": "code",
   "execution_count": 7,
   "metadata": {
    "colab": {
     "base_uri": "https://localhost:8080/",
     "height": 300
    },
    "executionInfo": {
     "elapsed": 1114,
     "status": "ok",
     "timestamp": 1761662136731,
     "user": {
      "displayName": "Muhammad Hilmi Al Farisi",
      "userId": "09746579587384254250"
     },
     "user_tz": -540
    },
    "id": "Voqk9JBWZPLM",
    "outputId": "822ee716-4689-4d11-dc10-e373facbc437"
   },
   "outputs": [
    {
     "data": {
      "text/html": [
       "<div>\n",
       "<style scoped>\n",
       "    .dataframe tbody tr th:only-of-type {\n",
       "        vertical-align: middle;\n",
       "    }\n",
       "\n",
       "    .dataframe tbody tr th {\n",
       "        vertical-align: top;\n",
       "    }\n",
       "\n",
       "    .dataframe thead th {\n",
       "        text-align: right;\n",
       "    }\n",
       "</style>\n",
       "<table border=\"1\" class=\"dataframe\">\n",
       "  <thead>\n",
       "    <tr style=\"text-align: right;\">\n",
       "      <th></th>\n",
       "      <th>order_item_id</th>\n",
       "      <th>price</th>\n",
       "      <th>freight_value</th>\n",
       "    </tr>\n",
       "  </thead>\n",
       "  <tbody>\n",
       "    <tr>\n",
       "      <th>count</th>\n",
       "      <td>112650.000000</td>\n",
       "      <td>112650.000000</td>\n",
       "      <td>112650.000000</td>\n",
       "    </tr>\n",
       "    <tr>\n",
       "      <th>mean</th>\n",
       "      <td>1.197834</td>\n",
       "      <td>120.653739</td>\n",
       "      <td>19.990320</td>\n",
       "    </tr>\n",
       "    <tr>\n",
       "      <th>std</th>\n",
       "      <td>0.705124</td>\n",
       "      <td>183.633928</td>\n",
       "      <td>15.806405</td>\n",
       "    </tr>\n",
       "    <tr>\n",
       "      <th>min</th>\n",
       "      <td>1.000000</td>\n",
       "      <td>0.850000</td>\n",
       "      <td>0.000000</td>\n",
       "    </tr>\n",
       "    <tr>\n",
       "      <th>25%</th>\n",
       "      <td>1.000000</td>\n",
       "      <td>39.900000</td>\n",
       "      <td>13.080000</td>\n",
       "    </tr>\n",
       "    <tr>\n",
       "      <th>50%</th>\n",
       "      <td>1.000000</td>\n",
       "      <td>74.990000</td>\n",
       "      <td>16.260000</td>\n",
       "    </tr>\n",
       "    <tr>\n",
       "      <th>75%</th>\n",
       "      <td>1.000000</td>\n",
       "      <td>134.900000</td>\n",
       "      <td>21.150000</td>\n",
       "    </tr>\n",
       "    <tr>\n",
       "      <th>max</th>\n",
       "      <td>21.000000</td>\n",
       "      <td>6735.000000</td>\n",
       "      <td>409.680000</td>\n",
       "    </tr>\n",
       "  </tbody>\n",
       "</table>\n",
       "</div>"
      ],
      "text/plain": [
       "       order_item_id          price  freight_value\n",
       "count  112650.000000  112650.000000  112650.000000\n",
       "mean        1.197834     120.653739      19.990320\n",
       "std         0.705124     183.633928      15.806405\n",
       "min         1.000000       0.850000       0.000000\n",
       "25%         1.000000      39.900000      13.080000\n",
       "50%         1.000000      74.990000      16.260000\n",
       "75%         1.000000     134.900000      21.150000\n",
       "max        21.000000    6735.000000     409.680000"
      ]
     },
     "execution_count": 7,
     "metadata": {},
     "output_type": "execute_result"
    }
   ],
   "source": [
    "# Mencari Outliers / Inaccurate value yang berpotensi mengurangi kualitas data\n",
    "order_df.describe()\n",
    "order_payment_df.describe()\n",
    "order_review_df.describe()\n",
    "customer_df.describe()\n",
    "product_df.describe()\n",
    "geolocation_df.describe()\n",
    "order_item_df.describe()"
   ]
  },
  {
   "cell_type": "markdown",
   "metadata": {
    "id": "7dtxhAPrkhPL"
   },
   "source": [
    "**Insight:**\n",
    "1. Temuan Missing Value\n",
    "- Terdapat missing value pada order_approved_at, order_delivered_carrier_date, dan order_delivered_customer_date pada data order. Namun ketiga kolom tersebut tidak berhubungan dengan pertanyaan bisinis yang akan diexplore.\n",
    "- Terdapat missing value pada review_comment_title dan review_comment_massage pada data order_review. Namun ketiga kolom tersebut tidak berhubungan dengan pertanyaan bisinis yang akan diexplore.\n",
    "- Terdapat missing value pada product_cat_name, length, description_length, photos, dan berbagai ukuran produk pada data order_item. Beberapa kolom yang berkaitan dengan ukuran dan berat produk berkaitan dengan kualitas hasil analisis ini.\n",
    "\n",
    "2. Temuan kesalahan tipe data\n",
    "- Seluruh tipe data pada semua kolom sudah sesuai kecuali pada order_approved_at, order_delivered_carrier_date, dan order_delivered_customer_date pada data order yang seharusnya datettime namun aktualnya object. Namun ketiga kolom tersebut tidak berhubungan dengan pertanyaan bisinis yang akan diexplore.\n",
    "\n",
    "3. Temuan data duplikat\n",
    "- Dapat duplikat terdeteksi hanya pada data geolocation, namun hal tersebut wajar karena perbedaan hanya minor terdapat pada koordinat longitude dan latitude yang sebenarnya memang menjadi kolom pembeda pada pertanyaan analisis kita.\n",
    "\n",
    "4. Tidak ditemukan adanya *outliers/inaccurate value* pada data-data di atas\n",
    "5. Ditemukan data invalid dalam kolom longitude dan latitude pada data geolocation yang berada di luar wilayah negara Brazil"
   ]
  },
  {
   "cell_type": "markdown",
   "metadata": {
    "id": "EhN5R4hr8DC1"
   },
   "source": [
    "### Cleaning Data"
   ]
  },
  {
   "cell_type": "code",
   "execution_count": 8,
   "metadata": {
    "executionInfo": {
     "elapsed": 41,
     "status": "ok",
     "timestamp": 1761662159342,
     "user": {
      "displayName": "Muhammad Hilmi Al Farisi",
      "userId": "09746579587384254250"
     },
     "user_tz": -540
    },
    "id": "jVnYpprE9Evz"
   },
   "outputs": [],
   "source": [
    "# Karena missing value kolom-kolom yang berkaitan dengan ukuran dan berat produk seperti weight, length, height, dan width hanya 0,01%, maka saya akan ganti dengan mean agar tidak merusak nilai distribusi\n",
    "\n",
    "product_df.fillna({\n",
    "    'product_weight_g': product_df['product_weight_g'].mean(),\n",
    "    'product_length_cm': product_df['product_length_cm'].mean(),\n",
    "    'product_height_cm': product_df['product_height_cm'].mean(),\n",
    "    'product_width_cm': product_df['product_width_cm'].mean()\n",
    "}, inplace=True)"
   ]
  },
  {
   "cell_type": "code",
   "execution_count": 9,
   "metadata": {
    "executionInfo": {
     "elapsed": 68,
     "status": "ok",
     "timestamp": 1761662161426,
     "user": {
      "displayName": "Muhammad Hilmi Al Farisi",
      "userId": "09746579587384254250"
     },
     "user_tz": -540
    },
    "id": "R2byV5y3iUSV"
   },
   "outputs": [],
   "source": [
    "# Karena missing value kolom-kolom tanggal pada data order seperti order_approved_at, order_delivered_carrier_date, dan order_delivered_customer_date, tidak akan terpakai, maka kolom-kolom tersebut akan saya drop\n",
    "for col in ['order_approved_at', 'order_delivered_carrier_date', 'order_delivered_customer_date', 'order_estimated_delivery_date']:\n",
    "  order_df.drop(col, axis=1, inplace=True)\n"
   ]
  },
  {
   "cell_type": "code",
   "execution_count": 10,
   "metadata": {
    "executionInfo": {
     "elapsed": 58,
     "status": "ok",
     "timestamp": 1761662162672,
     "user": {
      "displayName": "Muhammad Hilmi Al Farisi",
      "userId": "09746579587384254250"
     },
     "user_tz": -540
    },
    "id": "cpPh8kMokhdK"
   },
   "outputs": [],
   "source": [
    "# Karena missing value pada data order_review juga tidak terpakai, maka saya akan drop kolom-kolom tersebut\n",
    "for col in ['review_comment_title', 'review_comment_message', 'review_creation_date', 'review_answer_timestamp']:\n",
    "  order_review_df.drop(col, axis=1, inplace=True)"
   ]
  },
  {
   "cell_type": "code",
   "execution_count": 11,
   "metadata": {
    "executionInfo": {
     "elapsed": 96,
     "status": "ok",
     "timestamp": 1761662164326,
     "user": {
      "displayName": "Muhammad Hilmi Al Farisi",
      "userId": "09746579587384254250"
     },
     "user_tz": -540
    },
    "id": "8ZYZ47y1xjWX"
   },
   "outputs": [],
   "source": [
    "# Memfilter koordinat yang hanya berada dalam batas koordinat wilayah negara brazil\n",
    "geolocation_df = geolocation_df[\n",
    "    (geolocation_df['geolocation_lat'].between(-35, 5)) &\n",
    "    (geolocation_df['geolocation_lng'].between(-74, -34))\n",
    "]"
   ]
  },
  {
   "cell_type": "markdown",
   "metadata": {
    "id": "Q_5ejIqckiSP"
   },
   "source": [
    "**Insight:**\n",
    "- Missing value terkait ukuran dan berat produk diisi dengan nilai mean karena jumlah tidak signifikan dan tidak akan merubah distribusi data\n",
    "- Beberapa kolom tanggal pada data order kecuali order_purchase_timestamp dan beberapa kolom pada data order_review dihilangkan agar dataset lebih rapih dan clean\n",
    "- Beberapa data geolocation dengan anga koordinat longitude dan latitude di luar wilayah negara brazil dihilangkan"
   ]
  },
  {
   "cell_type": "markdown",
   "metadata": {
    "id": "gp-Y6wU38DC1"
   },
   "source": [
    "## Exploratory Data Analysis (EDA)"
   ]
  },
  {
   "cell_type": "markdown",
   "metadata": {
    "id": "MW7WF2kr8DC1"
   },
   "source": [
    "### Explore data Product Review"
   ]
  },
  {
   "cell_type": "code",
   "execution_count": 12,
   "metadata": {
    "colab": {
     "base_uri": "https://localhost:8080/",
     "height": 363
    },
    "executionInfo": {
     "elapsed": 509,
     "status": "ok",
     "timestamp": 1761662177515,
     "user": {
      "displayName": "Muhammad Hilmi Al Farisi",
      "userId": "09746579587384254250"
     },
     "user_tz": -540
    },
    "id": "e9CQCZjk8DC2",
    "outputId": "55c520fa-38bc-4995-c56a-74579142e316"
   },
   "outputs": [
    {
     "data": {
      "text/html": [
       "<div>\n",
       "<style scoped>\n",
       "    .dataframe tbody tr th:only-of-type {\n",
       "        vertical-align: middle;\n",
       "    }\n",
       "\n",
       "    .dataframe tbody tr th {\n",
       "        vertical-align: top;\n",
       "    }\n",
       "\n",
       "    .dataframe thead th {\n",
       "        text-align: right;\n",
       "    }\n",
       "</style>\n",
       "<table border=\"1\" class=\"dataframe\">\n",
       "  <thead>\n",
       "    <tr style=\"text-align: right;\">\n",
       "      <th></th>\n",
       "      <th>product_category_name</th>\n",
       "      <th>count_5stars</th>\n",
       "    </tr>\n",
       "  </thead>\n",
       "  <tbody>\n",
       "    <tr>\n",
       "      <th>11</th>\n",
       "      <td>beleza_saude</td>\n",
       "      <td>5858</td>\n",
       "    </tr>\n",
       "    <tr>\n",
       "      <th>13</th>\n",
       "      <td>cama_mesa_banho</td>\n",
       "      <td>5785</td>\n",
       "    </tr>\n",
       "    <tr>\n",
       "      <th>32</th>\n",
       "      <td>esporte_lazer</td>\n",
       "      <td>5121</td>\n",
       "    </tr>\n",
       "    <tr>\n",
       "      <th>54</th>\n",
       "      <td>moveis_decoracao</td>\n",
       "      <td>4452</td>\n",
       "    </tr>\n",
       "    <tr>\n",
       "      <th>44</th>\n",
       "      <td>informatica_acessorios</td>\n",
       "      <td>4200</td>\n",
       "    </tr>\n",
       "    <tr>\n",
       "      <th>71</th>\n",
       "      <td>utilidades_domesticas</td>\n",
       "      <td>3985</td>\n",
       "    </tr>\n",
       "    <tr>\n",
       "      <th>66</th>\n",
       "      <td>relogios_presentes</td>\n",
       "      <td>3331</td>\n",
       "    </tr>\n",
       "    <tr>\n",
       "      <th>12</th>\n",
       "      <td>brinquedos</td>\n",
       "      <td>2517</td>\n",
       "    </tr>\n",
       "    <tr>\n",
       "      <th>40</th>\n",
       "      <td>ferramentas_jardim</td>\n",
       "      <td>2478</td>\n",
       "    </tr>\n",
       "    <tr>\n",
       "      <th>8</th>\n",
       "      <td>automotivo</td>\n",
       "      <td>2381</td>\n",
       "    </tr>\n",
       "  </tbody>\n",
       "</table>\n",
       "</div>"
      ],
      "text/plain": [
       "     product_category_name  count_5stars\n",
       "11            beleza_saude          5858\n",
       "13         cama_mesa_banho          5785\n",
       "32           esporte_lazer          5121\n",
       "54        moveis_decoracao          4452\n",
       "44  informatica_acessorios          4200\n",
       "71   utilidades_domesticas          3985\n",
       "66      relogios_presentes          3331\n",
       "12              brinquedos          2517\n",
       "40      ferramentas_jardim          2478\n",
       "8               automotivo          2381"
      ]
     },
     "execution_count": 12,
     "metadata": {},
     "output_type": "execute_result"
    }
   ],
   "source": [
    "product_orderItem_df = pd.merge(\n",
    "    left=product_df,\n",
    "    right=order_item_df,\n",
    "    how='left',\n",
    "    left_on='product_id',\n",
    "    right_on='product_id'\n",
    ")\n",
    "\n",
    "product_review_df = pd.merge(\n",
    "    left=product_orderItem_df,\n",
    "    right=order_review_df,\n",
    "    how='left',\n",
    "    left_on='order_id',\n",
    "    right_on='order_id'\n",
    ")\n",
    "# Melihat product dengan review bintang 5 terbanyak\n",
    "product_with_R5_df = product_review_df[product_review_df['review_score'] == 5]\n",
    "topProduct_with_R5_df = product_with_R5_df.groupby(['product_category_name']).size().reset_index(name='count_5stars').sort_values('count_5stars', ascending=False)\n",
    "topProduct_with_R5_df.head(10)"
   ]
  },
  {
   "cell_type": "markdown",
   "metadata": {
    "id": "8nJLgwXB6iGq"
   },
   "source": [
    "### Explore data potensial variabel yang berkorelasi dengan harga pengiriman barang"
   ]
  },
  {
   "cell_type": "code",
   "execution_count": 13,
   "metadata": {
    "colab": {
     "base_uri": "https://localhost:8080/",
     "height": 226
    },
    "executionInfo": {
     "elapsed": 918,
     "status": "ok",
     "timestamp": 1761662181962,
     "user": {
      "displayName": "Muhammad Hilmi Al Farisi",
      "userId": "09746579587384254250"
     },
     "user_tz": -540
    },
    "id": "LZV-C30T6Uv6",
    "outputId": "3307b27f-c60d-41fd-aabd-68e8e9d6d133"
   },
   "outputs": [
    {
     "data": {
      "text/html": [
       "<div>\n",
       "<style scoped>\n",
       "    .dataframe tbody tr th:only-of-type {\n",
       "        vertical-align: middle;\n",
       "    }\n",
       "\n",
       "    .dataframe tbody tr th {\n",
       "        vertical-align: top;\n",
       "    }\n",
       "\n",
       "    .dataframe thead th {\n",
       "        text-align: right;\n",
       "    }\n",
       "</style>\n",
       "<table border=\"1\" class=\"dataframe\">\n",
       "  <thead>\n",
       "    <tr style=\"text-align: right;\">\n",
       "      <th></th>\n",
       "      <th>order_id</th>\n",
       "      <th>customer_id</th>\n",
       "      <th>order_item_id</th>\n",
       "      <th>product_id</th>\n",
       "      <th>price</th>\n",
       "      <th>freight_value</th>\n",
       "      <th>product_weight_g</th>\n",
       "      <th>volume</th>\n",
       "    </tr>\n",
       "  </thead>\n",
       "  <tbody>\n",
       "    <tr>\n",
       "      <th>0</th>\n",
       "      <td>e481f51cbdc54678b7cc49136f2d6af7</td>\n",
       "      <td>9ef432eb6251297304e76186b10a928d</td>\n",
       "      <td>1.0</td>\n",
       "      <td>87285b34884572647811a353c7ac498a</td>\n",
       "      <td>29.99</td>\n",
       "      <td>8.72</td>\n",
       "      <td>500.0</td>\n",
       "      <td>1976.0</td>\n",
       "    </tr>\n",
       "    <tr>\n",
       "      <th>1</th>\n",
       "      <td>53cdb2fc8bc7dce0b6741e2150273451</td>\n",
       "      <td>b0830fb4747a6c6d20dea0b8c802d7ef</td>\n",
       "      <td>1.0</td>\n",
       "      <td>595fac2a385ac33a80bd5114aec74eb8</td>\n",
       "      <td>118.70</td>\n",
       "      <td>22.76</td>\n",
       "      <td>400.0</td>\n",
       "      <td>4693.0</td>\n",
       "    </tr>\n",
       "    <tr>\n",
       "      <th>2</th>\n",
       "      <td>47770eb9100c2d0c44946d9cf07ec65d</td>\n",
       "      <td>41ce2a54c0b03bf3443c3d931a367089</td>\n",
       "      <td>1.0</td>\n",
       "      <td>aa4383b373c6aca5d8797843e5594415</td>\n",
       "      <td>159.90</td>\n",
       "      <td>19.22</td>\n",
       "      <td>420.0</td>\n",
       "      <td>9576.0</td>\n",
       "    </tr>\n",
       "    <tr>\n",
       "      <th>3</th>\n",
       "      <td>949d5b44dbf5de918fe9c16f97b45f8a</td>\n",
       "      <td>f88197465ea7920adcdbec7375364d82</td>\n",
       "      <td>1.0</td>\n",
       "      <td>d0b61bfb1de832b15ba9d266ca96e5b0</td>\n",
       "      <td>45.00</td>\n",
       "      <td>27.20</td>\n",
       "      <td>450.0</td>\n",
       "      <td>6000.0</td>\n",
       "    </tr>\n",
       "    <tr>\n",
       "      <th>4</th>\n",
       "      <td>ad21c59c0840e6cb83a9ceb5573f8159</td>\n",
       "      <td>8ab97904e6daea8866dbdbc4fb7aad2c</td>\n",
       "      <td>1.0</td>\n",
       "      <td>65266b2da20d04dbe00c5c2d3bb7859e</td>\n",
       "      <td>19.90</td>\n",
       "      <td>8.72</td>\n",
       "      <td>250.0</td>\n",
       "      <td>11475.0</td>\n",
       "    </tr>\n",
       "  </tbody>\n",
       "</table>\n",
       "</div>"
      ],
      "text/plain": [
       "                           order_id                       customer_id  \\\n",
       "0  e481f51cbdc54678b7cc49136f2d6af7  9ef432eb6251297304e76186b10a928d   \n",
       "1  53cdb2fc8bc7dce0b6741e2150273451  b0830fb4747a6c6d20dea0b8c802d7ef   \n",
       "2  47770eb9100c2d0c44946d9cf07ec65d  41ce2a54c0b03bf3443c3d931a367089   \n",
       "3  949d5b44dbf5de918fe9c16f97b45f8a  f88197465ea7920adcdbec7375364d82   \n",
       "4  ad21c59c0840e6cb83a9ceb5573f8159  8ab97904e6daea8866dbdbc4fb7aad2c   \n",
       "\n",
       "   order_item_id                        product_id   price  freight_value  \\\n",
       "0            1.0  87285b34884572647811a353c7ac498a   29.99           8.72   \n",
       "1            1.0  595fac2a385ac33a80bd5114aec74eb8  118.70          22.76   \n",
       "2            1.0  aa4383b373c6aca5d8797843e5594415  159.90          19.22   \n",
       "3            1.0  d0b61bfb1de832b15ba9d266ca96e5b0   45.00          27.20   \n",
       "4            1.0  65266b2da20d04dbe00c5c2d3bb7859e   19.90           8.72   \n",
       "\n",
       "   product_weight_g   volume  \n",
       "0             500.0   1976.0  \n",
       "1             400.0   4693.0  \n",
       "2             420.0   9576.0  \n",
       "3             450.0   6000.0  \n",
       "4             250.0  11475.0  "
      ]
     },
     "execution_count": 13,
     "metadata": {},
     "output_type": "execute_result"
    }
   ],
   "source": [
    "order_wtItem = pd.merge(\n",
    "    left=order_df,\n",
    "    right=order_item_df,\n",
    "    how='left',\n",
    "    left_on='order_id',\n",
    "    right_on='order_id'\n",
    ")\n",
    "\n",
    "freightFactor_df = pd.merge(\n",
    "    left=order_wtItem,\n",
    "    right=product_df,\n",
    "    how='left',\n",
    "    left_on='product_id',\n",
    "    right_on='product_id'\n",
    ")\n",
    "\n",
    "# Membuat kolom volume (len*width*height)\n",
    "freightFactor_df['volume'] = freightFactor_df['product_length_cm'] * freightFactor_df['product_width_cm'] * freightFactor_df['product_height_cm']\n",
    "freightValue_factor_df = freightFactor_df.drop(columns=['order_status', 'order_purchase_timestamp', 'product_length_cm', 'product_height_cm', 'product_width_cm', 'shipping_limit_date', 'product_name_lenght', 'product_description_lenght', 'product_photos_qty', 'product_category_name', 'seller_id'], axis=1)\n",
    "freightValue_factor_df.head()"
   ]
  },
  {
   "cell_type": "code",
   "execution_count": 14,
   "metadata": {
    "colab": {
     "base_uri": "https://localhost:8080/"
    },
    "executionInfo": {
     "elapsed": 58,
     "status": "ok",
     "timestamp": 1761662185355,
     "user": {
      "displayName": "Muhammad Hilmi Al Farisi",
      "userId": "09746579587384254250"
     },
     "user_tz": -540
    },
    "id": "u9IAoEEPNDNV",
    "outputId": "d3f1a623-26d2-41d3-b33b-364f84783f99"
   },
   "outputs": [
    {
     "data": {
      "text/plain": [
       "np.float64(0.5872681017261773)"
      ]
     },
     "execution_count": 14,
     "metadata": {},
     "output_type": "execute_result"
    }
   ],
   "source": [
    "freightFactor_df['freight_value'].corr(freightFactor_df['volume'])"
   ]
  },
  {
   "cell_type": "code",
   "execution_count": 15,
   "metadata": {
    "colab": {
     "base_uri": "https://localhost:8080/"
    },
    "executionInfo": {
     "elapsed": 44,
     "status": "ok",
     "timestamp": 1761662186889,
     "user": {
      "displayName": "Muhammad Hilmi Al Farisi",
      "userId": "09746579587384254250"
     },
     "user_tz": -540
    },
    "id": "V3TDpM8KNEgt",
    "outputId": "9f8102c7-9918-405a-fb27-8abe7fad748c"
   },
   "outputs": [
    {
     "data": {
      "text/plain": [
       "np.float64(0.6104100183276739)"
      ]
     },
     "execution_count": 15,
     "metadata": {},
     "output_type": "execute_result"
    }
   ],
   "source": [
    "freightFactor_df['freight_value'].corr(freightFactor_df['product_weight_g'])"
   ]
  },
  {
   "cell_type": "markdown",
   "metadata": {
    "id": "KmYafSxI0_T3"
   },
   "source": [
    "### Explorasi data lokasi pelanggan dengan pembelian tertinggi (Geospatial Analysis)"
   ]
  },
  {
   "cell_type": "code",
   "execution_count": 16,
   "metadata": {
    "colab": {
     "base_uri": "https://localhost:8080/",
     "height": 363
    },
    "executionInfo": {
     "elapsed": 30964,
     "status": "ok",
     "timestamp": 1761662219747,
     "user": {
      "displayName": "Muhammad Hilmi Al Farisi",
      "userId": "09746579587384254250"
     },
     "user_tz": -540
    },
    "id": "bevBMiJc0-fB",
    "outputId": "d88cf289-02c3-4f8f-f48d-0aec6878d38d"
   },
   "outputs": [
    {
     "data": {
      "text/html": [
       "<div>\n",
       "<style scoped>\n",
       "    .dataframe tbody tr th:only-of-type {\n",
       "        vertical-align: middle;\n",
       "    }\n",
       "\n",
       "    .dataframe tbody tr th {\n",
       "        vertical-align: top;\n",
       "    }\n",
       "\n",
       "    .dataframe thead th {\n",
       "        text-align: right;\n",
       "    }\n",
       "</style>\n",
       "<table border=\"1\" class=\"dataframe\">\n",
       "  <thead>\n",
       "    <tr style=\"text-align: right;\">\n",
       "      <th></th>\n",
       "      <th>customer_zip_code_prefix</th>\n",
       "      <th>geolocation_lat</th>\n",
       "      <th>geolocation_lng</th>\n",
       "      <th>payment_value</th>\n",
       "      <th>geolocation_city</th>\n",
       "      <th>geolocation_state</th>\n",
       "    </tr>\n",
       "  </thead>\n",
       "  <tbody>\n",
       "    <tr>\n",
       "      <th>6027</th>\n",
       "      <td>24220</td>\n",
       "      <td>-22.903245</td>\n",
       "      <td>-43.107024</td>\n",
       "      <td>24612206.52</td>\n",
       "      <td>niteroi</td>\n",
       "      <td>RJ</td>\n",
       "    </tr>\n",
       "    <tr>\n",
       "      <th>6028</th>\n",
       "      <td>24230</td>\n",
       "      <td>-22.878637</td>\n",
       "      <td>-43.086096</td>\n",
       "      <td>21932984.78</td>\n",
       "      <td>niterói</td>\n",
       "      <td>RJ</td>\n",
       "    </tr>\n",
       "    <tr>\n",
       "      <th>5885</th>\n",
       "      <td>22790</td>\n",
       "      <td>-23.012987</td>\n",
       "      <td>-43.465520</td>\n",
       "      <td>17405735.82</td>\n",
       "      <td>rio de janeiro</td>\n",
       "      <td>RJ</td>\n",
       "    </tr>\n",
       "    <tr>\n",
       "      <th>5855</th>\n",
       "      <td>22631</td>\n",
       "      <td>-23.003657</td>\n",
       "      <td>-43.340759</td>\n",
       "      <td>15187677.44</td>\n",
       "      <td>rio de janeiro</td>\n",
       "      <td>RJ</td>\n",
       "    </tr>\n",
       "    <tr>\n",
       "      <th>7556</th>\n",
       "      <td>35500</td>\n",
       "      <td>-20.140360</td>\n",
       "      <td>-44.884080</td>\n",
       "      <td>14931859.37</td>\n",
       "      <td>divinopolis</td>\n",
       "      <td>MG</td>\n",
       "    </tr>\n",
       "    <tr>\n",
       "      <th>6780</th>\n",
       "      <td>28970</td>\n",
       "      <td>-22.869657</td>\n",
       "      <td>-42.321415</td>\n",
       "      <td>14262665.15</td>\n",
       "      <td>araruama</td>\n",
       "      <td>RJ</td>\n",
       "    </tr>\n",
       "    <tr>\n",
       "      <th>8138</th>\n",
       "      <td>38400</td>\n",
       "      <td>-18.913248</td>\n",
       "      <td>-48.278212</td>\n",
       "      <td>13759230.55</td>\n",
       "      <td>uberlandia</td>\n",
       "      <td>MG</td>\n",
       "    </tr>\n",
       "    <tr>\n",
       "      <th>7794</th>\n",
       "      <td>36570</td>\n",
       "      <td>-20.754735</td>\n",
       "      <td>-42.877520</td>\n",
       "      <td>11930722.38</td>\n",
       "      <td>vicosa</td>\n",
       "      <td>MG</td>\n",
       "    </tr>\n",
       "    <tr>\n",
       "      <th>7913</th>\n",
       "      <td>37200</td>\n",
       "      <td>-21.244709</td>\n",
       "      <td>-44.999202</td>\n",
       "      <td>10654340.16</td>\n",
       "      <td>lavras</td>\n",
       "      <td>MG</td>\n",
       "    </tr>\n",
       "    <tr>\n",
       "      <th>5880</th>\n",
       "      <td>22775</td>\n",
       "      <td>-22.969148</td>\n",
       "      <td>-43.383065</td>\n",
       "      <td>10074399.28</td>\n",
       "      <td>rio de janeiro</td>\n",
       "      <td>RJ</td>\n",
       "    </tr>\n",
       "  </tbody>\n",
       "</table>\n",
       "</div>"
      ],
      "text/plain": [
       "      customer_zip_code_prefix  geolocation_lat  geolocation_lng  \\\n",
       "6027                     24220       -22.903245       -43.107024   \n",
       "6028                     24230       -22.878637       -43.086096   \n",
       "5885                     22790       -23.012987       -43.465520   \n",
       "5855                     22631       -23.003657       -43.340759   \n",
       "7556                     35500       -20.140360       -44.884080   \n",
       "6780                     28970       -22.869657       -42.321415   \n",
       "8138                     38400       -18.913248       -48.278212   \n",
       "7794                     36570       -20.754735       -42.877520   \n",
       "7913                     37200       -21.244709       -44.999202   \n",
       "5880                     22775       -22.969148       -43.383065   \n",
       "\n",
       "      payment_value geolocation_city geolocation_state  \n",
       "6027    24612206.52          niteroi                RJ  \n",
       "6028    21932984.78          niterói                RJ  \n",
       "5885    17405735.82   rio de janeiro                RJ  \n",
       "5855    15187677.44   rio de janeiro                RJ  \n",
       "7556    14931859.37      divinopolis                MG  \n",
       "6780    14262665.15         araruama                RJ  \n",
       "8138    13759230.55       uberlandia                MG  \n",
       "7794    11930722.38           vicosa                MG  \n",
       "7913    10654340.16           lavras                MG  \n",
       "5880    10074399.28   rio de janeiro                RJ  "
      ]
     },
     "execution_count": 16,
     "metadata": {},
     "output_type": "execute_result"
    }
   ],
   "source": [
    "# Membuat dataframe angka pembelian tiap lokasi geografis\n",
    "order_Withpayment = pd.merge(\n",
    "    left=order_df,\n",
    "    right=order_payment_df,\n",
    "    how='left',\n",
    "    left_on='order_id',\n",
    "    right_on='order_id'\n",
    ")\n",
    "\n",
    "customer_order_Withpayment = pd.merge(\n",
    "    left=customer_df,\n",
    "    right=order_Withpayment,\n",
    "    how='left',\n",
    "    left_on='customer_id',\n",
    "    right_on='customer_id'\n",
    ")\n",
    "\n",
    "customer_geolocation_df = pd.merge(\n",
    "    left=customer_order_Withpayment,\n",
    "    right=geolocation_df,\n",
    "    how='left',\n",
    "    left_on='customer_zip_code_prefix',\n",
    "    right_on='geolocation_zip_code_prefix'\n",
    ")\n",
    "\n",
    "geoloc_payment_df = customer_geolocation_df.groupby(['customer_zip_code_prefix'], as_index=False).agg({\n",
    "    'geolocation_lat' : 'mean',\n",
    "    'geolocation_lng' : 'mean',\n",
    "    'payment_value' : 'sum',\n",
    "    'geolocation_city' : 'first',\n",
    "    'geolocation_state' : 'first'\n",
    "})\n",
    "\n",
    "geoloc_payment_df.sort_values(by='payment_value', ascending=False).head(10)"
   ]
  },
  {
   "cell_type": "markdown",
   "metadata": {
    "id": "N3F8_OW59KRd"
   },
   "source": [
    "### Explorasi Data RFM Customer (RFM Analysis)"
   ]
  },
  {
   "cell_type": "code",
   "execution_count": 18,
   "metadata": {
    "executionInfo": {
     "elapsed": 1751,
     "status": "ok",
     "timestamp": 1761662227067,
     "user": {
      "displayName": "Muhammad Hilmi Al Farisi",
      "userId": "09746579587384254250"
     },
     "user_tz": -540
    },
    "id": "p5go3Gxv9R44"
   },
   "outputs": [],
   "source": [
    "# Membuat main_data untuk RFM Analysis dan Dashboard\n",
    "new_order_df = pd.merge(\n",
    "    left=freightFactor_df,\n",
    "    right=order_review_df,\n",
    "    how='left',\n",
    "    left_on='order_id',\n",
    "    right_on='order_id'\n",
    ")\n",
    "\n",
    "new_order_Wcust_df = pd.merge(\n",
    "    left=new_order_df,\n",
    "    right=customer_df,\n",
    "    how='left',\n",
    "    left_on='customer_id',\n",
    "    right_on='customer_id'\n",
    ")\n",
    "\n",
    "main_data_df = pd.merge(\n",
    "    left=new_order_Wcust_df,\n",
    "    right=geoloc_payment_df,\n",
    "    how='left',\n",
    "    left_on='customer_zip_code_prefix',\n",
    "    right_on='customer_zip_code_prefix'\n",
    ")\n",
    "\n",
    "for_rfm_df = main_data_df.drop(columns=['seller_id',\n",
    "                      'shipping_limit_date',\n",
    "                      'product_name_lenght',\n",
    "                      'product_description_lenght',\n",
    "                      'product_photos_qty',\n",
    "                      ], axis=1,\n",
    "                      )\n",
    "\n",
    "\n",
    "for_rfm_df.rename(columns={'order_purchase_timestamp' : 'order_date'}, inplace=True)\n",
    "for_rfm_df['order_date'] = pd.to_datetime(for_rfm_df['order_date']).dt.tz_localize('Asia/Jakarta')\n",
    "\n",
    "rfm_df = for_rfm_df.groupby(by='customer_unique_id', as_index=False).agg({\n",
    "    'order_date' : 'max',\n",
    "    'order_id' : 'count',\n",
    "    'price' : 'sum'\n",
    "    })\n",
    "rfm_df.rename(columns={\n",
    "    'order_date' : 'max_order_timestamp',\n",
    "    'order_id' : 'frequency',\n",
    "    'price' : 'monetary'\n",
    "},inplace=True)\n",
    "rfm_df['max_order_timestamp'] = rfm_df['max_order_timestamp'].dt.date\n",
    "recent_date = rfm_df['max_order_timestamp'].max()\n",
    "rfm_df['recency'] = rfm_df['max_order_timestamp'].apply(lambda x : (recent_date - x).days)\n",
    "rfm_df.drop('max_order_timestamp', axis=1, inplace=True)"
   ]
  },
  {
   "cell_type": "code",
   "execution_count": null,
   "metadata": {
    "executionInfo": {
     "elapsed": 7286,
     "status": "ok",
     "timestamp": 1761633058020,
     "user": {
      "displayName": "Muhammad Hilmi Al Farisi",
      "userId": "09746579587384254250"
     },
     "user_tz": -540
    },
    "id": "ojVskRmqX-YZ"
   },
   "outputs": [],
   "source": [
    "# main_data_df.info()\n",
    "main_data_df.to_csv('main_data_df', index=False) # Save in general\n",
    "# files.download('main_data.csv')"
   ]
  },
  {
   "cell_type": "code",
   "execution_count": 19,
   "metadata": {
    "colab": {
     "base_uri": "https://localhost:8080/",
     "height": 363
    },
    "executionInfo": {
     "elapsed": 78,
     "status": "ok",
     "timestamp": 1761662237240,
     "user": {
      "displayName": "Muhammad Hilmi Al Farisi",
      "userId": "09746579587384254250"
     },
     "user_tz": -540
    },
    "id": "l7lyNGmxPhL8",
    "outputId": "e6ccd51e-1a55-4c97-f7d7-085a1d04c916"
   },
   "outputs": [
    {
     "data": {
      "text/html": [
       "<div>\n",
       "<style scoped>\n",
       "    .dataframe tbody tr th:only-of-type {\n",
       "        vertical-align: middle;\n",
       "    }\n",
       "\n",
       "    .dataframe tbody tr th {\n",
       "        vertical-align: top;\n",
       "    }\n",
       "\n",
       "    .dataframe thead th {\n",
       "        text-align: right;\n",
       "    }\n",
       "</style>\n",
       "<table border=\"1\" class=\"dataframe\">\n",
       "  <thead>\n",
       "    <tr style=\"text-align: right;\">\n",
       "      <th></th>\n",
       "      <th>customer_unique_id</th>\n",
       "      <th>frequency</th>\n",
       "      <th>monetary</th>\n",
       "      <th>recency</th>\n",
       "    </tr>\n",
       "  </thead>\n",
       "  <tbody>\n",
       "    <tr>\n",
       "      <th>50975</th>\n",
       "      <td>87ab9fec999db8bd5774917de3cdf01c</td>\n",
       "      <td>1</td>\n",
       "      <td>0.0</td>\n",
       "      <td>0</td>\n",
       "    </tr>\n",
       "    <tr>\n",
       "      <th>14363</th>\n",
       "      <td>262e1f1e26e92e86375f86840b4ffd63</td>\n",
       "      <td>2</td>\n",
       "      <td>197.5</td>\n",
       "      <td>1</td>\n",
       "    </tr>\n",
       "    <tr>\n",
       "      <th>65954</th>\n",
       "      <td>af5454198a97379394cacf676e1e96cb</td>\n",
       "      <td>3</td>\n",
       "      <td>178.0</td>\n",
       "      <td>14</td>\n",
       "    </tr>\n",
       "    <tr>\n",
       "      <th>37382</th>\n",
       "      <td>634420a0ea42302205032ed44ac7fccc</td>\n",
       "      <td>2</td>\n",
       "      <td>65.0</td>\n",
       "      <td>16</td>\n",
       "    </tr>\n",
       "    <tr>\n",
       "      <th>58524</th>\n",
       "      <td>9bb92bebd4cb7511e1a02d5e50bc4655</td>\n",
       "      <td>1</td>\n",
       "      <td>0.0</td>\n",
       "      <td>18</td>\n",
       "    </tr>\n",
       "    <tr>\n",
       "      <th>70105</th>\n",
       "      <td>ba84da8c159659f116329563a0a981dd</td>\n",
       "      <td>3</td>\n",
       "      <td>76.0</td>\n",
       "      <td>21</td>\n",
       "    </tr>\n",
       "    <tr>\n",
       "      <th>58710</th>\n",
       "      <td>9c3af16efacb7aa06aa3bc674556c5d6</td>\n",
       "      <td>3</td>\n",
       "      <td>190.0</td>\n",
       "      <td>22</td>\n",
       "    </tr>\n",
       "    <tr>\n",
       "      <th>3193</th>\n",
       "      <td>08642cd329066fe11ec63293f714f2f8</td>\n",
       "      <td>2</td>\n",
       "      <td>170.0</td>\n",
       "      <td>27</td>\n",
       "    </tr>\n",
       "    <tr>\n",
       "      <th>89783</th>\n",
       "      <td>ef0103e9602d12594d19c2b666219bc1</td>\n",
       "      <td>3</td>\n",
       "      <td>0.0</td>\n",
       "      <td>30</td>\n",
       "    </tr>\n",
       "    <tr>\n",
       "      <th>72940</th>\n",
       "      <td>c1ee153508c6b785b491443a95ff364e</td>\n",
       "      <td>1</td>\n",
       "      <td>0.0</td>\n",
       "      <td>34</td>\n",
       "    </tr>\n",
       "  </tbody>\n",
       "</table>\n",
       "</div>"
      ],
      "text/plain": [
       "                     customer_unique_id  frequency  monetary  recency\n",
       "50975  87ab9fec999db8bd5774917de3cdf01c          1       0.0        0\n",
       "14363  262e1f1e26e92e86375f86840b4ffd63          2     197.5        1\n",
       "65954  af5454198a97379394cacf676e1e96cb          3     178.0       14\n",
       "37382  634420a0ea42302205032ed44ac7fccc          2      65.0       16\n",
       "58524  9bb92bebd4cb7511e1a02d5e50bc4655          1       0.0       18\n",
       "70105  ba84da8c159659f116329563a0a981dd          3      76.0       21\n",
       "58710  9c3af16efacb7aa06aa3bc674556c5d6          3     190.0       22\n",
       "3193   08642cd329066fe11ec63293f714f2f8          2     170.0       27\n",
       "89783  ef0103e9602d12594d19c2b666219bc1          3       0.0       30\n",
       "72940  c1ee153508c6b785b491443a95ff364e          1       0.0       34"
      ]
     },
     "execution_count": 19,
     "metadata": {},
     "output_type": "execute_result"
    }
   ],
   "source": [
    "# Top customer dari sisi recency\n",
    "rfm_df.sort_values(by='recency', ascending=True).head(10)"
   ]
  },
  {
   "cell_type": "code",
   "execution_count": 20,
   "metadata": {
    "colab": {
     "base_uri": "https://localhost:8080/",
     "height": 206
    },
    "executionInfo": {
     "elapsed": 70,
     "status": "ok",
     "timestamp": 1761662240923,
     "user": {
      "displayName": "Muhammad Hilmi Al Farisi",
      "userId": "09746579587384254250"
     },
     "user_tz": -540
    },
    "id": "JLL86xSaPsCU",
    "outputId": "acbf8861-bbda-4751-c694-fa27696838ac"
   },
   "outputs": [
    {
     "data": {
      "text/html": [
       "<div>\n",
       "<style scoped>\n",
       "    .dataframe tbody tr th:only-of-type {\n",
       "        vertical-align: middle;\n",
       "    }\n",
       "\n",
       "    .dataframe tbody tr th {\n",
       "        vertical-align: top;\n",
       "    }\n",
       "\n",
       "    .dataframe thead th {\n",
       "        text-align: right;\n",
       "    }\n",
       "</style>\n",
       "<table border=\"1\" class=\"dataframe\">\n",
       "  <thead>\n",
       "    <tr style=\"text-align: right;\">\n",
       "      <th></th>\n",
       "      <th>customer_unique_id</th>\n",
       "      <th>frequency</th>\n",
       "      <th>monetary</th>\n",
       "      <th>recency</th>\n",
       "    </tr>\n",
       "  </thead>\n",
       "  <tbody>\n",
       "    <tr>\n",
       "      <th>81722</th>\n",
       "      <td>d97b3cfb22b0d6b25ac9ed4e9c2d481b</td>\n",
       "      <td>24</td>\n",
       "      <td>1593.16</td>\n",
       "      <td>365</td>\n",
       "    </tr>\n",
       "    <tr>\n",
       "      <th>75269</th>\n",
       "      <td>c8460e4251689ba205045f3ea17884a1</td>\n",
       "      <td>24</td>\n",
       "      <td>4080.00</td>\n",
       "      <td>70</td>\n",
       "    </tr>\n",
       "    <tr>\n",
       "      <th>26075</th>\n",
       "      <td>4546caea018ad8c692964e3382debd19</td>\n",
       "      <td>21</td>\n",
       "      <td>31.80</td>\n",
       "      <td>458</td>\n",
       "    </tr>\n",
       "    <tr>\n",
       "      <th>39720</th>\n",
       "      <td>698e1cf81d01a3d389d96145f7fa6df8</td>\n",
       "      <td>20</td>\n",
       "      <td>1974.00</td>\n",
       "      <td>420</td>\n",
       "    </tr>\n",
       "    <tr>\n",
       "      <th>73664</th>\n",
       "      <td>c402f431464c72e27330a67f7b94d4fb</td>\n",
       "      <td>20</td>\n",
       "      <td>2000.00</td>\n",
       "      <td>237</td>\n",
       "    </tr>\n",
       "  </tbody>\n",
       "</table>\n",
       "</div>"
      ],
      "text/plain": [
       "                     customer_unique_id  frequency  monetary  recency\n",
       "81722  d97b3cfb22b0d6b25ac9ed4e9c2d481b         24   1593.16      365\n",
       "75269  c8460e4251689ba205045f3ea17884a1         24   4080.00       70\n",
       "26075  4546caea018ad8c692964e3382debd19         21     31.80      458\n",
       "39720  698e1cf81d01a3d389d96145f7fa6df8         20   1974.00      420\n",
       "73664  c402f431464c72e27330a67f7b94d4fb         20   2000.00      237"
      ]
     },
     "execution_count": 20,
     "metadata": {},
     "output_type": "execute_result"
    }
   ],
   "source": [
    "# Top customer dari sisi frequency\n",
    "rfm_df.sort_values(by='frequency', ascending=False).head(5)"
   ]
  },
  {
   "cell_type": "code",
   "execution_count": 22,
   "metadata": {
    "colab": {
     "base_uri": "https://localhost:8080/",
     "height": 206
    },
    "executionInfo": {
     "elapsed": 54,
     "status": "ok",
     "timestamp": 1761662243102,
     "user": {
      "displayName": "Muhammad Hilmi Al Farisi",
      "userId": "09746579587384254250"
     },
     "user_tz": -540
    },
    "id": "ZIjuc1g_P2is",
    "outputId": "2a797c77-91da-4987-fa89-aa1f5becad9f"
   },
   "outputs": [
    {
     "data": {
      "text/html": [
       "<div>\n",
       "<style scoped>\n",
       "    .dataframe tbody tr th:only-of-type {\n",
       "        vertical-align: middle;\n",
       "    }\n",
       "\n",
       "    .dataframe tbody tr th {\n",
       "        vertical-align: top;\n",
       "    }\n",
       "\n",
       "    .dataframe thead th {\n",
       "        text-align: right;\n",
       "    }\n",
       "</style>\n",
       "<table border=\"1\" class=\"dataframe\">\n",
       "  <thead>\n",
       "    <tr style=\"text-align: right;\">\n",
       "      <th></th>\n",
       "      <th>customer_unique_id</th>\n",
       "      <th>frequency</th>\n",
       "      <th>monetary</th>\n",
       "      <th>recency</th>\n",
       "    </tr>\n",
       "  </thead>\n",
       "  <tbody>\n",
       "    <tr>\n",
       "      <th>3826</th>\n",
       "      <td>0a0a92112bd4c708ca5fde585afaa872</td>\n",
       "      <td>8</td>\n",
       "      <td>13440.0</td>\n",
       "      <td>383</td>\n",
       "    </tr>\n",
       "    <tr>\n",
       "      <th>81962</th>\n",
       "      <td>da122df9eeddfedc1dc1f5349a1a690c</td>\n",
       "      <td>2</td>\n",
       "      <td>7388.0</td>\n",
       "      <td>564</td>\n",
       "    </tr>\n",
       "    <tr>\n",
       "      <th>44447</th>\n",
       "      <td>763c8b1c9c68a0229c42c9fc6f662b93</td>\n",
       "      <td>4</td>\n",
       "      <td>7160.0</td>\n",
       "      <td>94</td>\n",
       "    </tr>\n",
       "    <tr>\n",
       "      <th>82808</th>\n",
       "      <td>dc4802a71eae9be1dd28f5d788ceb526</td>\n",
       "      <td>1</td>\n",
       "      <td>6735.0</td>\n",
       "      <td>612</td>\n",
       "    </tr>\n",
       "    <tr>\n",
       "      <th>26205</th>\n",
       "      <td>459bef486812aa25204be022145caa62</td>\n",
       "      <td>1</td>\n",
       "      <td>6729.0</td>\n",
       "      <td>84</td>\n",
       "    </tr>\n",
       "  </tbody>\n",
       "</table>\n",
       "</div>"
      ],
      "text/plain": [
       "                     customer_unique_id  frequency  monetary  recency\n",
       "3826   0a0a92112bd4c708ca5fde585afaa872          8   13440.0      383\n",
       "81962  da122df9eeddfedc1dc1f5349a1a690c          2    7388.0      564\n",
       "44447  763c8b1c9c68a0229c42c9fc6f662b93          4    7160.0       94\n",
       "82808  dc4802a71eae9be1dd28f5d788ceb526          1    6735.0      612\n",
       "26205  459bef486812aa25204be022145caa62          1    6729.0       84"
      ]
     },
     "execution_count": 22,
     "metadata": {},
     "output_type": "execute_result"
    }
   ],
   "source": [
    "# Top customer dari sisi monetary\n",
    "rfm_df.sort_values(by='monetary', ascending=False).head(5)"
   ]
  },
  {
   "cell_type": "markdown",
   "metadata": {
    "id": "th_Lzl2Fkj9O"
   },
   "source": [
    "**Insight:**\n",
    "1. Ranking kategori dengan review bintang 5 terbanyak adalah :\n",
    "- 1 : beleza_saude\n",
    "- 2 : cama_mesa_banho\n",
    "- 3 : esporte_lazer\n",
    "- 4 : moveis_decoracao\n",
    "- 5 : informatica_acessorios\n",
    "\n",
    "2. Ditemui bahwa faktor volume mempunyai tingkatan **sedang** (0.587) dalam hal keberpengaruhan terhadap harga pengiriman, sedangkan faktor berat mempunyai tingkat **kuat** (0.610) dalam hal keberpengaruhan terhadap harga pengiriman.\n",
    "\n",
    "3. Geospatial analysis ini bertujuan untuk memberikan hasil lokasi-lokasi dengan tingkat penjualan tertinggi. Top 5 lokasi geografis dengan total angka pembelian tertinggi terdapat pada daerah dengan zip_code 24220, 24230, 22790, 22631, dan 35500 dengan koordinat tertera pada tabel.\n",
    "\n",
    "4. RFM Analysis ini bertujuan untuk memberikan hasil customer dengan performa terbaik dari sisi recency, frequency, dan monetary. Didapatkan top 5 Pelanggan dengan performa tertinggi dari sisi recency dengan recency 0, 1, 14,16, dan 18 hari. Selanjutnya didapatkan top 5 pelanggan dengan erforma tertinggi dari sisi recency dengan nilau frequency pembelian sebanyak 24, 24, 21, 20, dan 20 kali, terakhir didapatkan top 5 pelanggan dengan performa tertinggi dari sisi monetary dengan nilai jumlah harga pemnbelian dari range 6729.0 hingga 13440.0\n",
    "\n"
   ]
  },
  {
   "cell_type": "markdown",
   "metadata": {
    "id": "zsyZjqak8DC2"
   },
   "source": [
    "## Visualization & Explanatory Analysis"
   ]
  },
  {
   "cell_type": "markdown",
   "metadata": {
    "id": "HZxOiQ6n8DC2"
   },
   "source": [
    "### Pertanyaan 1: Kategori produk apa saja yang mendapatkan nilai rating 5 terbanyak?"
   ]
  },
  {
   "cell_type": "code",
   "execution_count": 23,
   "metadata": {
    "colab": {
     "base_uri": "https://localhost:8080/",
     "height": 576
    },
    "executionInfo": {
     "elapsed": 1037,
     "status": "ok",
     "timestamp": 1761662278738,
     "user": {
      "displayName": "Muhammad Hilmi Al Farisi",
      "userId": "09746579587384254250"
     },
     "user_tz": -540
    },
    "id": "1swJUdAD8DC2",
    "outputId": "8170e713-e975-4eb9-e980-c72cfa7d3c63"
   },
   "outputs": [
    {
     "data": {
      "image/png": "[encoded data removed]",
      "text/plain": [
       "<Figure size 2500x1000 with 1 Axes>"
      ]
     },
     "metadata": {},
     "output_type": "display_data"
    }
   ],
   "source": [
    "# Menggunakan dataframe product_review\n",
    "topProduct_with_R5_df = product_with_R5_df.groupby(['product_category_name']).size().reset_index(name='count_5stars').sort_values('count_5stars', ascending=False)\n",
    "\n",
    "colors_allblue = [\"#90CAF9\", \"#90CAF9\", \"#90CAF9\", \"#90CAF9\", \"#90CAF9\"]\n",
    "fig, ax = plt.subplots(figsize=(25, 10))\n",
    "sns.barplot(\n",
    "    data=topProduct_with_R5_df.head(5),\n",
    "    x='product_category_name',\n",
    "    y='count_5stars',\n",
    "    color='#90CAF9',\n",
    "    ax=ax\n",
    "    )\n",
    "ax.set_title('Most 5 Stars Review Products', loc='center', fontsize=50)\n",
    "ax.set_ylabel(None)\n",
    "ax.set_xlabel('Products', fontsize=30)\n",
    "ax.tick_params(axis='x', labelsize=20)\n",
    "ax.tick_params(axis='y', labelsize=25)\n",
    "for container in ax.containers:\n",
    "    ax.bar_label(container, fmt='%.0f', fontsize=13, padding=-17)\n",
    "plt.show(fig)"
   ]
  },
  {
   "cell_type": "markdown",
   "metadata": {
    "id": "DgHI7CiU8DC2"
   },
   "source": [
    "### Pertanyaan 2: Seberapa besar faktor volume dan berat barang mempengaruhi harga pengiriman barang?"
   ]
  },
  {
   "cell_type": "code",
   "execution_count": 24,
   "metadata": {
    "colab": {
     "base_uri": "https://localhost:8080/",
     "height": 812
    },
    "executionInfo": {
     "elapsed": 496,
     "status": "ok",
     "timestamp": 1761662291633,
     "user": {
      "displayName": "Muhammad Hilmi Al Farisi",
      "userId": "09746579587384254250"
     },
     "user_tz": -540
    },
    "id": "Go0lCsvO8DC2",
    "outputId": "ab37b957-a525-45cf-b53b-abc92d6bf5b0"
   },
   "outputs": [
    {
     "data": {
      "image/png": "[encoded data removed]",
      "text/plain": [
       "<Figure size 1000x1000 with 2 Axes>"
      ]
     },
     "metadata": {},
     "output_type": "display_data"
    }
   ],
   "source": [
    "# Menggunakan dataframe freighValue_factor_df\n",
    "corellation_data = freightValue_factor_df[['freight_value', 'volume', 'product_weight_g']]\n",
    "\n",
    "fig, ax = plt.subplots(figsize=(10, 10))\n",
    "sns.heatmap(\n",
    "    data=corellation_data.corr(),\n",
    "    annot=True,\n",
    "    cmap='Reds',\n",
    "    square=True,\n",
    "    ax=ax)\n",
    "ax.set_title('Heatmap Korelasi Harga Pengiriman Barang', loc='center', fontsize=18)\n",
    "plt.show(fig)"
   ]
  },
  {
   "cell_type": "markdown",
   "metadata": {
    "id": "H0spIiaJPkrf"
   },
   "source": [
    "### Pertanyaan 3 & Pertanyaan 4 akan divisualisasikan dengan analisis lanjutan pada Subpoint setelah ini"
   ]
  },
  {
   "cell_type": "markdown",
   "metadata": {
    "id": "_0-36BDLklRg"
   },
   "source": [
    "**Insight:**\n",
    "- Barchart pertama meunjukan top 5 produk yang mendapatkan rating review bintang 5 dengan jumlah terbanyak\n",
    "\n",
    "- Heatmap di atas menunjukan besaran korelasi / keberpengaruhan faktor berat dan volume product terhadap harga pengiriman barang"
   ]
  },
  {
   "cell_type": "markdown",
   "metadata": {
    "id": "9y4VUsmcYNZ5"
   },
   "source": [
    "## Analisis Lanjutan (Opsional)"
   ]
  },
  {
   "cell_type": "markdown",
   "metadata": {
    "id": "JH7X7RATQPzt"
   },
   "source": [
    "### Pertanyaan 3: Di mana letak geografis yang mempunyai angka pembelian tertinggi dan terendah? (Geospatial Analysis)"
   ]
  },
  {
   "cell_type": "code",
   "execution_count": 25,
   "metadata": {
    "colab": {
     "base_uri": "https://localhost:8080/",
     "height": 677
    },
    "executionInfo": {
     "elapsed": 294,
     "status": "ok",
     "timestamp": 1761662361719,
     "user": {
      "displayName": "Muhammad Hilmi Al Farisi",
      "userId": "09746579587384254250"
     },
     "user_tz": -540
    },
    "id": "_iBhvHX6QQM9",
    "outputId": "f7311925-c3cc-4bf1-ae5a-ad62e60c231f"
   },
   "outputs": [
    {
     "data": {
      "text/html": [
       "<div>\n",
       "<style scoped>\n",
       "    .dataframe tbody tr th:only-of-type {\n",
       "        vertical-align: middle;\n",
       "    }\n",
       "\n",
       "    .dataframe tbody tr th {\n",
       "        vertical-align: top;\n",
       "    }\n",
       "\n",
       "    .dataframe thead th {\n",
       "        text-align: right;\n",
       "    }\n",
       "</style>\n",
       "<table border=\"1\" class=\"dataframe\">\n",
       "  <thead>\n",
       "    <tr style=\"text-align: right;\">\n",
       "      <th></th>\n",
       "      <th>customer_zip_code_prefix</th>\n",
       "      <th>geolocation_lat</th>\n",
       "      <th>geolocation_lng</th>\n",
       "      <th>payment_value</th>\n",
       "      <th>geolocation_city</th>\n",
       "      <th>geolocation_state</th>\n",
       "      <th>geometry</th>\n",
       "    </tr>\n",
       "  </thead>\n",
       "  <tbody>\n",
       "    <tr>\n",
       "      <th>14578</th>\n",
       "      <td>95853</td>\n",
       "      <td>NaN</td>\n",
       "      <td>NaN</td>\n",
       "      <td>20.70</td>\n",
       "      <td>None</td>\n",
       "      <td>None</td>\n",
       "      <td>POINT (-46.63573 -23.54899)</td>\n",
       "    </tr>\n",
       "    <tr>\n",
       "      <th>8217</th>\n",
       "      <td>38819</td>\n",
       "      <td>-19.676989</td>\n",
       "      <td>-51.188937</td>\n",
       "      <td>25.51</td>\n",
       "      <td>rio paranaiba</td>\n",
       "      <td>MG</td>\n",
       "      <td>POINT (-46.63476 -23.5498)</td>\n",
       "    </tr>\n",
       "    <tr>\n",
       "      <th>3216</th>\n",
       "      <td>7430</td>\n",
       "      <td>NaN</td>\n",
       "      <td>NaN</td>\n",
       "      <td>28.62</td>\n",
       "      <td>None</td>\n",
       "      <td>None</td>\n",
       "      <td>POINT (-46.63673 -23.54946)</td>\n",
       "    </tr>\n",
       "    <tr>\n",
       "      <th>8178</th>\n",
       "      <td>38627</td>\n",
       "      <td>NaN</td>\n",
       "      <td>NaN</td>\n",
       "      <td>29.42</td>\n",
       "      <td>None</td>\n",
       "      <td>None</td>\n",
       "      <td>POINT (-46.63614 -23.5501)</td>\n",
       "    </tr>\n",
       "    <tr>\n",
       "      <th>6679</th>\n",
       "      <td>28340</td>\n",
       "      <td>-21.207949</td>\n",
       "      <td>-41.889774</td>\n",
       "      <td>31.69</td>\n",
       "      <td>boa ventura</td>\n",
       "      <td>RJ</td>\n",
       "      <td>POINT (-46.63725 -23.55005)</td>\n",
       "    </tr>\n",
       "    <tr>\n",
       "      <th>8320</th>\n",
       "      <td>39623</td>\n",
       "      <td>-19.893237</td>\n",
       "      <td>-43.986305</td>\n",
       "      <td>31.73</td>\n",
       "      <td>tuparece</td>\n",
       "      <td>MG</td>\n",
       "      <td>POINT (-46.63589 -23.546)</td>\n",
       "    </tr>\n",
       "    <tr>\n",
       "      <th>7801</th>\n",
       "      <td>36596</td>\n",
       "      <td>NaN</td>\n",
       "      <td>NaN</td>\n",
       "      <td>32.43</td>\n",
       "      <td>None</td>\n",
       "      <td>None</td>\n",
       "      <td>POINT (-46.63649 -23.54684)</td>\n",
       "    </tr>\n",
       "    <tr>\n",
       "      <th>11654</th>\n",
       "      <td>72899</td>\n",
       "      <td>-21.467829</td>\n",
       "      <td>-56.171869</td>\n",
       "      <td>34.09</td>\n",
       "      <td>jardim abc de goias</td>\n",
       "      <td>GO</td>\n",
       "      <td>POINT (-46.63558 -23.54691)</td>\n",
       "    </tr>\n",
       "    <tr>\n",
       "      <th>11884</th>\n",
       "      <td>74686</td>\n",
       "      <td>-16.556178</td>\n",
       "      <td>-49.244786</td>\n",
       "      <td>34.09</td>\n",
       "      <td>goiania</td>\n",
       "      <td>GO</td>\n",
       "      <td>POINT (-46.63486 -23.54779)</td>\n",
       "    </tr>\n",
       "    <tr>\n",
       "      <th>8663</th>\n",
       "      <td>43870</td>\n",
       "      <td>NaN</td>\n",
       "      <td>NaN</td>\n",
       "      <td>34.78</td>\n",
       "      <td>None</td>\n",
       "      <td>None</td>\n",
       "      <td>POINT (-46.63424 -23.54714)</td>\n",
       "    </tr>\n",
       "    <tr>\n",
       "      <th>14515</th>\n",
       "      <td>95390</td>\n",
       "      <td>-30.233661</td>\n",
       "      <td>-50.233574</td>\n",
       "      <td>35.00</td>\n",
       "      <td>pinhal da serra</td>\n",
       "      <td>RS</td>\n",
       "      <td>POINT (-46.63362 -23.54591)</td>\n",
       "    </tr>\n",
       "    <tr>\n",
       "      <th>7495</th>\n",
       "      <td>35242</td>\n",
       "      <td>NaN</td>\n",
       "      <td>NaN</td>\n",
       "      <td>35.09</td>\n",
       "      <td>None</td>\n",
       "      <td>None</td>\n",
       "      <td>POINT (-46.63156 -23.54767)</td>\n",
       "    </tr>\n",
       "    <tr>\n",
       "      <th>11558</th>\n",
       "      <td>72341</td>\n",
       "      <td>NaN</td>\n",
       "      <td>NaN</td>\n",
       "      <td>35.40</td>\n",
       "      <td>None</td>\n",
       "      <td>None</td>\n",
       "      <td>POINT (-46.63235 -23.54898)</td>\n",
       "    </tr>\n",
       "    <tr>\n",
       "      <th>11691</th>\n",
       "      <td>73091</td>\n",
       "      <td>NaN</td>\n",
       "      <td>NaN</td>\n",
       "      <td>35.83</td>\n",
       "      <td>None</td>\n",
       "      <td>None</td>\n",
       "      <td>POINT (-46.63102 -23.54953)</td>\n",
       "    </tr>\n",
       "    <tr>\n",
       "      <th>12906</th>\n",
       "      <td>83210</td>\n",
       "      <td>NaN</td>\n",
       "      <td>NaN</td>\n",
       "      <td>37.73</td>\n",
       "      <td>None</td>\n",
       "      <td>None</td>\n",
       "      <td>POINT (-46.63089 -23.55177)</td>\n",
       "    </tr>\n",
       "    <tr>\n",
       "      <th>6689</th>\n",
       "      <td>28425</td>\n",
       "      <td>-21.714720</td>\n",
       "      <td>-41.925000</td>\n",
       "      <td>38.09</td>\n",
       "      <td>cambiasca</td>\n",
       "      <td>RJ</td>\n",
       "      <td>POINT (-46.63005 -23.55234)</td>\n",
       "    </tr>\n",
       "    <tr>\n",
       "      <th>8238</th>\n",
       "      <td>39175</td>\n",
       "      <td>-21.358677</td>\n",
       "      <td>-46.150543</td>\n",
       "      <td>38.50</td>\n",
       "      <td>pedra menina</td>\n",
       "      <td>MG</td>\n",
       "      <td>POINT (-46.63214 -23.543)</td>\n",
       "    </tr>\n",
       "    <tr>\n",
       "      <th>11622</th>\n",
       "      <td>72760</td>\n",
       "      <td>NaN</td>\n",
       "      <td>NaN</td>\n",
       "      <td>39.73</td>\n",
       "      <td>None</td>\n",
       "      <td>None</td>\n",
       "      <td>POINT (-46.63193 -23.54492)</td>\n",
       "    </tr>\n",
       "    <tr>\n",
       "      <th>7841</th>\n",
       "      <td>36873</td>\n",
       "      <td>-23.543365</td>\n",
       "      <td>-46.889442</td>\n",
       "      <td>42.27</td>\n",
       "      <td>silveira carvalho</td>\n",
       "      <td>MG</td>\n",
       "      <td>POINT (-46.63137 -23.54233)</td>\n",
       "    </tr>\n",
       "    <tr>\n",
       "      <th>6013</th>\n",
       "      <td>24027</td>\n",
       "      <td>-21.218972</td>\n",
       "      <td>-41.877524</td>\n",
       "      <td>43.00</td>\n",
       "      <td>niteroi</td>\n",
       "      <td>RJ</td>\n",
       "      <td>POINT (-46.6299 -23.5414)</td>\n",
       "    </tr>\n",
       "  </tbody>\n",
       "</table>\n",
       "</div>"
      ],
      "text/plain": [
       "       customer_zip_code_prefix  geolocation_lat  geolocation_lng  \\\n",
       "14578                     95853              NaN              NaN   \n",
       "8217                      38819       -19.676989       -51.188937   \n",
       "3216                       7430              NaN              NaN   \n",
       "8178                      38627              NaN              NaN   \n",
       "6679                      28340       -21.207949       -41.889774   \n",
       "8320                      39623       -19.893237       -43.986305   \n",
       "7801                      36596              NaN              NaN   \n",
       "11654                     72899       -21.467829       -56.171869   \n",
       "11884                     74686       -16.556178       -49.244786   \n",
       "8663                      43870              NaN              NaN   \n",
       "14515                     95390       -30.233661       -50.233574   \n",
       "7495                      35242              NaN              NaN   \n",
       "11558                     72341              NaN              NaN   \n",
       "11691                     73091              NaN              NaN   \n",
       "12906                     83210              NaN              NaN   \n",
       "6689                      28425       -21.714720       -41.925000   \n",
       "8238                      39175       -21.358677       -46.150543   \n",
       "11622                     72760              NaN              NaN   \n",
       "7841                      36873       -23.543365       -46.889442   \n",
       "6013                      24027       -21.218972       -41.877524   \n",
       "\n",
       "       payment_value     geolocation_city geolocation_state  \\\n",
       "14578          20.70                 None              None   \n",
       "8217           25.51        rio paranaiba                MG   \n",
       "3216           28.62                 None              None   \n",
       "8178           29.42                 None              None   \n",
       "6679           31.69          boa ventura                RJ   \n",
       "8320           31.73             tuparece                MG   \n",
       "7801           32.43                 None              None   \n",
       "11654          34.09  jardim abc de goias                GO   \n",
       "11884          34.09              goiania                GO   \n",
       "8663           34.78                 None              None   \n",
       "14515          35.00      pinhal da serra                RS   \n",
       "7495           35.09                 None              None   \n",
       "11558          35.40                 None              None   \n",
       "11691          35.83                 None              None   \n",
       "12906          37.73                 None              None   \n",
       "6689           38.09            cambiasca                RJ   \n",
       "8238           38.50         pedra menina                MG   \n",
       "11622          39.73                 None              None   \n",
       "7841           42.27    silveira carvalho                MG   \n",
       "6013           43.00              niteroi                RJ   \n",
       "\n",
       "                          geometry  \n",
       "14578  POINT (-46.63573 -23.54899)  \n",
       "8217    POINT (-46.63476 -23.5498)  \n",
       "3216   POINT (-46.63673 -23.54946)  \n",
       "8178    POINT (-46.63614 -23.5501)  \n",
       "6679   POINT (-46.63725 -23.55005)  \n",
       "8320     POINT (-46.63589 -23.546)  \n",
       "7801   POINT (-46.63649 -23.54684)  \n",
       "11654  POINT (-46.63558 -23.54691)  \n",
       "11884  POINT (-46.63486 -23.54779)  \n",
       "8663   POINT (-46.63424 -23.54714)  \n",
       "14515  POINT (-46.63362 -23.54591)  \n",
       "7495   POINT (-46.63156 -23.54767)  \n",
       "11558  POINT (-46.63235 -23.54898)  \n",
       "11691  POINT (-46.63102 -23.54953)  \n",
       "12906  POINT (-46.63089 -23.55177)  \n",
       "6689   POINT (-46.63005 -23.55234)  \n",
       "8238     POINT (-46.63214 -23.543)  \n",
       "11622  POINT (-46.63193 -23.54492)  \n",
       "7841   POINT (-46.63137 -23.54233)  \n",
       "6013     POINT (-46.6299 -23.5414)  "
      ]
     },
     "execution_count": 25,
     "metadata": {},
     "output_type": "execute_result"
    }
   ],
   "source": [
    "# Menggunakan dataframe geoloc_payment dengan menambahkan column geometry sebagai geospasial koordinat\n",
    "geometry = [Point(xy) for xy in zip(geoloc_payment_df['geolocation_lng'], geoloc_payment_df['geolocation_lat'])]\n",
    "geo_df = gpd.GeoDataFrame(data=geoloc_payment_df.sort_values(by='payment_value', ascending=True), geometry=geometry)\n",
    "# Diurutkan dengan ascending=False agar visualisasi menunjukan data dengan payment value tertinggi berada di atas\n",
    "geo_df.set_crs(epsg=4326, inplace=True)\n",
    "#geo_df.crs = 4326\n",
    "\n",
    "geo_df.head(20)"
   ]
  },
  {
   "cell_type": "code",
   "execution_count": 26,
   "metadata": {
    "colab": {
     "base_uri": "https://localhost:8080/",
     "height": 847
    },
    "executionInfo": {
     "elapsed": 1852,
     "status": "ok",
     "timestamp": 1761662367576,
     "user": {
      "displayName": "Muhammad Hilmi Al Farisi",
      "userId": "09746579587384254250"
     },
     "user_tz": -540
    },
    "id": "n_xysDnBo18K",
    "outputId": "e58e5d08-129b-41ba-a6fc-2be542ebd6f5"
   },
   "outputs": [
    {
     "data": {
      "text/plain": [
       "<Axes: >"
      ]
     },
     "execution_count": 26,
     "metadata": {},
     "output_type": "execute_result"
    },
    {
     "data": {
      "image/png": "[encoded data removed]",
      "text/plain": [
       "<Figure size 1000x1000 with 1 Axes>"
      ]
     },
     "metadata": {},
     "output_type": "display_data"
    }
   ],
   "source": [
    "# Visualisasi Geospasial dengan Map Brazil yang menyesuaikan dengan isi data\n",
    "world = gpd.read_file(\"https://naturalearth.s3.amazonaws.com/110m_cultural/ne_110m_admin_0_countries.zip\")\n",
    "brazil = world[world['NAME'] == 'Brazil']\n",
    "brazil = brazil.to_crs(epsg=4326)\n",
    "# brazil.crs = 4326\n",
    "\n",
    "\n",
    "fig, ax = plt.subplots(figsize=(10, 10))\n",
    "brazil.plot(figsize=(8, 8), color='#F2F2F2', edgecolor='black', ax=ax)\n",
    "geo_df.plot(column='payment_value', ax=ax, cmap='Reds')\n",
    "\n",
    "\n"
   ]
  },
  {
   "cell_type": "markdown",
   "metadata": {
    "id": "b2wD3Ny_HBrO"
   },
   "source": [
    "### Pertanyaan 4: Siapa sajakan pelanggan yang mempunyai performance paling tinggi dari sisi recency pembelian, frekuensi pembelian, dan total biaya belanja yang dikeluarkan? (RFM Analysis)"
   ]
  },
  {
   "cell_type": "code",
   "execution_count": 27,
   "metadata": {
    "colab": {
     "base_uri": "https://localhost:8080/",
     "height": 405
    },
    "executionInfo": {
     "elapsed": 3274,
     "status": "ok",
     "timestamp": 1761662420256,
     "user": {
      "displayName": "Muhammad Hilmi Al Farisi",
      "userId": "09746579587384254250"
     },
     "user_tz": -540
    },
    "id": "iWhnzsJGYUCO",
    "outputId": "a69ed4cf-f85e-4e1d-fd39-d9cd27f5559f"
   },
   "outputs": [
    {
     "data": {
      "image/png": "[encoded data removed]",
      "text/plain": [
       "<Figure size 3500x1000 with 3 Axes>"
      ]
     },
     "metadata": {},
     "output_type": "display_data"
    }
   ],
   "source": [
    "# Menggunakan dataframe RFM\n",
    "fig, ax = plt.subplots(ncols=3, nrows=1, figsize=(35, 10))\n",
    "plt.subplots_adjust(wspace=0.3)\n",
    "fig.suptitle('Best Customer Performance based on RFM Analysis', fontsize=30)\n",
    "sns.barplot(\n",
    "    data=rfm_df.sort_values(by='recency', ascending=True).head(5),\n",
    "    x='recency',\n",
    "    y='customer_unique_id',\n",
    "    color='#4DB6AC',\n",
    "    ax=ax[0],\n",
    ")\n",
    "ax[0].set_title('by Recency', fontsize=22)\n",
    "ax[0].set_xlabel('Days', fontsize=15)\n",
    "ax[0].set_ylabel(None)\n",
    "ax[0].tick_params(axis='x', labelsize=10)\n",
    "ax[0].tick_params(axis='y', labelsize=7,)\n",
    "\n",
    "sns.barplot(\n",
    "    data=rfm_df.sort_values(by='frequency', ascending=False).head(5),\n",
    "    x='frequency',\n",
    "    y='customer_unique_id',\n",
    "    color='#81C784',\n",
    "    ax=ax[1],\n",
    ")\n",
    "ax[1].set_title('by Frequency', fontsize=22)\n",
    "ax[1].set_xlabel('Count', fontsize=15)\n",
    "ax[1].set_ylabel(None)\n",
    "ax[1].tick_params(axis='x', labelsize=10)\n",
    "ax[1].tick_params(axis='y', labelsize=7,)\n",
    "\n",
    "sns.barplot(\n",
    "    data=rfm_df.sort_values(by='monetary', ascending=False).head(5),\n",
    "    x='monetary',\n",
    "    y='customer_unique_id',\n",
    "    color='#AED581',\n",
    "    ax=ax[2],\n",
    ")\n",
    "ax[2].set_title('by Monetary', fontsize=22)\n",
    "ax[2].set_xlabel('Total Spending', fontsize=15)\n",
    "ax[2].set_ylabel(None)\n",
    "ax[2].tick_params(axis='x', labelsize=10)\n",
    "ax[2].tick_params(axis='y', labelsize=7,)\n",
    "\n",
    "plt.show(fig)"
   ]
  },
  {
   "cell_type": "markdown",
   "metadata": {
    "id": "mulc4G3C313l"
   },
   "source": [
    "Insight :\n",
    "- Visualisasi geospatial di atas menjukan lokasi-lokasi customer dengan jumlah pembelian tertinggi\n",
    "- Ketiga Barchart di atas menunjukan top 5 customer yang diukur dari performana RFM"
   ]
  },
  {
   "cell_type": "markdown",
   "metadata": {
    "id": "_WeHlCeX8DC2"
   },
   "source": [
    "## Conclusion"
   ]
  },
  {
   "cell_type": "markdown",
   "metadata": {
    "id": "ZTcyR48Y8DC2"
   },
   "source": [
    "- Conclution pertanyaan 1 :\n",
    "Ranking kategori dengan review bintang 5 terbanyak adalah beleza_saude, cama_mesa_banho, esporte_lazer, moveis_decoracao, informatica_acessorios.\n",
    "Data ini dapat dijadikan pertimbangan untuk penerapan sistem promosi terhadap top produk dan peningkatan promo bagi produk yang belum ada.\n",
    "\n",
    "- Conclution pertanyaan 2 : Keberpengaruhan volume dan berat hanya di tingkat agak kuat dan sedang dengan angka 0.587 & 0.610. Perlu dilakukan analisis lanjutan untuk mencari faktor pengaruh lainnya.\n",
    "\n",
    "- Conclution pertanyaan 3 : Top 5 customer dari sisi RFM telah didapatkan. Data ini dapat digunakan sebagai sistem reward bagi top customer dengan performance terbaik.\n",
    "\n",
    "- Conclution pertanyaan 4 : Didapatkan top location customer dari angka pembelian tertinggi di antaranya Niteroi, Rio De Janeiro, dan Divinopolis. Data ini dapat digunakan untuk program pengembangan gudang baru di daerah tersebut.\n",
    "\n",
    "\n"
   ]
  }
 ],
 "metadata": {
  "colab": {
   "provenance": [
    {
     "file_id": "1ug4Ox4qIFDSo1koFA0XiNJE-ce12rECy",
     "timestamp": 1761061497769
    }
   ]
  },
  "kernelspec": {
   "display_name": "Data Wrangling (3.13.5)",
   "language": "python",
   "name": "python3"
  },
  "language_info": {
   "codemirror_mode": {
    "name": "ipython",
    "version": 3
   },
   "file_extension": ".py",
   "mimetype": "text/x-python",
   "name": "python",
   "nbconvert_exporter": "python",
   "pygments_lexer": "ipython3",
   "version": "3.13.5"
  },
  "orig_nbformat": 4
 },
 "nbformat": 4,
 "nbformat_minor": 0
}
